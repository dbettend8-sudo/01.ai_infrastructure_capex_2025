{
  "cells": [
    {
      "cell_type": "markdown",
      "metadata": {},
      "source": "# AI Infrastructure CapEx by Region (approx. 2025)\n\nThis notebook loads a small CSV of regional AI/data‑center CapEx, produces a simple bar chart, and saves it to `outputs/`.\n\n**Note:** Values are indicative and should be replaced/updated with sourced figures if you refine the analysis."
    },
    {
      "cell_type": "code",
      "metadata": {},
      "execution_count": null,
      "outputs": [],
      "source": "\nimport os, pandas as pd, matplotlib.pyplot as plt\npd.set_option('display.max_rows', None)\npd.set_option('display.max_columns', None)\npd.set_option('display.max_colwidth', None)\n\nDATA = \"../data/ai_capex_by_region.csv\"\nOUT_DIR = \"../outputs\"\nos.makedirs(OUT_DIR, exist_ok=True)\n\ndf = pd.read_csv(DATA)\ndf\n"
    },
    {
      "cell_type": "code",
      "metadata": {},
      "execution_count": null,
      "outputs": [],
      "source": "\nplt.figure(figsize=(9,5))\nplt.bar(df[\"region\"], df[\"capex_usd_billion\"])\nplt.title(\"AI Infrastructure CapEx by Region (approx. 2025)\")\nplt.xlabel(\"Region\"); plt.ylabel(\"CapEx (USD billions)\")\nfor i, v in enumerate(df[\"capex_usd_billion\"]):\n    plt.text(i, v, f\"{v:.0f}\", ha=\"center\", va=\"bottom\")\nplt.savefig(f\"{OUT_DIR}/ai_capex_by_region_plot.png\", dpi=300, bbox_inches=\"tight\")\nplt.show()\n"
    }
  ],
  "metadata": {
    "kernelspec": {
      "display_name": "Python 3",
      "language": "python",
      "name": "python3"
    }
  },
  "nbformat": 4,
  "nbformat_minor": 5
}